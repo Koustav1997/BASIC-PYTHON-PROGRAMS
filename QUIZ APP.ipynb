{
 "cells": [
  {
   "cell_type": "markdown",
   "metadata": {
    "id": "q4DGqdEInt4u"
   },
   "source": [
    "Creating MCQ TEST USING PYTHON PROGRAMMING.Evaluate student Responses and provide the total marks scored by them"
   ]
  },
  {
   "cell_type": "markdown",
   "metadata": {
    "id": "DnmxiT1AaYxA"
   },
   "source": [
    "NOTE-THIS MCQ TEST HAS TOTAL 8 QUESTIONS.MAXIMUM MARKS FOR THIS TEST IS 40.\n",
    "EACH CORRECT RESPONSE MEANS +5 MARKS ADDED TO YOUR SCORE AND EACH INCORRECT RESPONSE MEANS -2 MARKS DEDUCTED FROM YOUR SCORE"
   ]
  },
  {
   "cell_type": "code",
   "execution_count": 1,
   "metadata": {},
   "outputs": [
    {
     "name": "stdout",
     "output_type": "stream",
     "text": [
      "enter your name : Koustav Banerjee\n",
      "What is the capital of INDIA\n",
      "A.NEWDELHI\n",
      "B.MUMBAI\n",
      "C.KOLKATA\n",
      "D.HYDERABAD \n",
      "enter your response A\n",
      "Which city is known as Silicon Valley of INDIA\n",
      "A.CHENNAI\n",
      "B.HYDERABAD\n",
      "C.BANGALORE\n",
      "D.GURGAON   \n",
      "enter your response C\n",
      " Which of the following chemical is used in photography\n",
      "A.NaCl\n",
      "B.KCl\n",
      "C.AgBr\n",
      "D.NaI    \n",
      "enter your response \n",
      "Which of the following is not a compound of Carbon\n",
      "A.Methane\n",
      "B.CausticSoda\n",
      "C.Chloroform\n",
      "D.AceticAcid  \n",
      "enter your response A\n",
      " Macintosh Operating System is a product of\n",
      "A.Microsoft\n",
      "B.Apple\n",
      "C.Goggle\n",
      "D.Intel \n",
      "enter your response D\n",
      "Who is known as the father of DBMS\n",
      "A.VanNeumann\n",
      "B. EFCodd\n",
      "  \n",
      "C.SteveJobs\n",
      "D.BillGates \n",
      "enter your response C\n",
      "Which of the following is antisterility vitamin \n",
      "A.VitaminA\n",
      "B.VitaminD\n",
      "C.VitaminK\n",
      "D.VitaminE \n",
      "enter your response D\n",
      " Inside the Human Body Urea is formed in which organ\n",
      "A.Liver\n",
      "B.Kidneys\n",
      "C.UrinaryBladder\n",
      "D.Lungs     \n",
      "enter your response A\n",
      "Your score out of 40 is :  12\n",
      "Number of correct responses :  4\n",
      "Number of incorrect responses :  4\n",
      "Well played  Koustav Banerjee\n",
      "Thanks for playing \n"
     ]
    }
   ],
   "source": [
    "\n",
    "name=input('enter your name : '  )\n",
    "Q1='''What is the capital of INDIA\n",
    "A.NEWDELHI\n",
    "B.MUMBAI\n",
    "C.KOLKATA\n",
    "D.HYDERABAD '''\n",
    "Q2='''Which city is known as Silicon Valley of INDIA\n",
    "A.CHENNAI\n",
    "B.HYDERABAD\n",
    "C.BANGALORE\n",
    "D.GURGAON   '''\n",
    "Q3=''' Which of the following chemical is used in photography\n",
    "A.NaCl\n",
    "B.KCl\n",
    "C.AgBr\n",
    "D.NaI    '''\n",
    "Q4='''Which of the following is not a compound of Carbon\n",
    "A.Methane\n",
    "B.CausticSoda\n",
    "C.Chloroform\n",
    "D.AceticAcid  '''\n",
    "Q5=''' Macintosh Operating System is a product of\n",
    "A.Microsoft\n",
    "B.Apple\n",
    "C.Goggle\n",
    "D.Intel '''\n",
    "Q6='''Who is known as the father of DBMS\n",
    "A.VanNeumann\n",
    "B. EFCodd\n",
    "  \n",
    "C.SteveJobs\n",
    "D.BillGates '''\n",
    "Q7='''Which of the following is antisterility vitamin \n",
    "A.VitaminA\n",
    "B.VitaminD\n",
    "C.VitaminK\n",
    "D.VitaminE '''\n",
    "Q8=''' Inside the Human Body Urea is formed in which organ\n",
    "A.Liver\n",
    "B.Kidneys\n",
    "C.UrinaryBladder\n",
    "D.Lungs     '''\n",
    "\n",
    "anskey={Q1:\"A\",Q2:\"C\",Q3:\"C\",Q4:\"B\",Q5:\"B\",Q6:\"B\",Q7:\"D\",Q8:\"A\"}\n",
    "score=0\n",
    "C1=0\n",
    "C2=0\n",
    "for i in anskey:\n",
    "  print(i)\n",
    "  ans=input(\"enter your response \")\n",
    "  if(ans==anskey[i]):\n",
    "    score=score+5\n",
    "    C1=C1+1\n",
    "  else:\n",
    "    score=score-2\n",
    "    C2=C2+1 \n",
    "    \n",
    "print(\"Your score out of 40 is : \",score)  \n",
    "print(\"Number of correct responses : \",C1) \n",
    "print(\"Number of incorrect responses : \",C2)\n",
    "print('Well played ', name )\n",
    "print('Thanks for playing ')"
   ]
  },
  {
   "cell_type": "code",
   "execution_count": null,
   "metadata": {},
   "outputs": [],
   "source": []
  }
 ],
 "metadata": {
  "colab": {
   "provenance": []
  },
  "kernelspec": {
   "display_name": "Python 3 (ipykernel)",
   "language": "python",
   "name": "python3"
  },
  "language_info": {
   "codemirror_mode": {
    "name": "ipython",
    "version": 3
   },
   "file_extension": ".py",
   "mimetype": "text/x-python",
   "name": "python",
   "nbconvert_exporter": "python",
   "pygments_lexer": "ipython3",
   "version": "3.9.12"
  }
 },
 "nbformat": 4,
 "nbformat_minor": 1
}
